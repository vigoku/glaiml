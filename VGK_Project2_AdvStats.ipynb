{
  "nbformat": 4,
  "nbformat_minor": 0,
  "metadata": {
    "kernelspec": {
      "display_name": "Python 3",
      "language": "python",
      "name": "python3"
    },
    "language_info": {
      "codemirror_mode": {
        "name": "ipython",
        "version": 3
      },
      "file_extension": ".py",
      "mimetype": "text/x-python",
      "name": "python",
      "nbconvert_exporter": "python",
      "pygments_lexer": "ipython3",
      "version": "3.7.3"
    },
    "colab": {
      "name": "VGK-Project2-AdvStats.ipynb",
      "version": "0.3.2",
      "provenance": [],
      "include_colab_link": true
    }
  },
  "cells": [
    {
      "cell_type": "markdown",
      "metadata": {
        "id": "view-in-github",
        "colab_type": "text"
      },
      "source": [
        "<a href=\"https://colab.research.google.com/github/vigoku/glaiml/blob/master/VGK_Project2_AdvStats.ipynb\" target=\"_parent\"><img src=\"https://colab.research.google.com/assets/colab-badge.svg\" alt=\"Open In Colab\"/></a>"
      ]
    },
    {
      "cell_type": "markdown",
      "metadata": {
        "id": "bYtxtXGch-Xy",
        "colab_type": "text"
      },
      "source": [
        "### Data Set Information\n",
        "\n",
        "The insurance.csv dataset contains 1338 observations and 7 attributes.\n",
        "\n",
        "##### Context: \n",
        "The data contains medical costs of people characterized by certain attributes. Let’s see if we can dive deep into this data to find some valuable insights.\n",
        "\n",
        "Attributes:-\n",
        "\n",
        "##### age: \n",
        "age of primary beneficiary\n",
        "##### sex: \n",
        "insurance contractor gender, female, male\n",
        "##### bmi: \n",
        "Body mass index, providing an understanding of body, weights that are relatively high or low relative to height, objective index of body weight (kg / m ^ 2) using the ratio of height to weight, ideally 18.5 to 24.9 \n",
        "##### children: \n",
        "Number of children covered by health insurance / Number of dependents\n",
        "##### smoker: \n",
        "Smoking\n",
        "##### region: \n",
        "the beneficiary's residential area in the US, northeast, southeast, southwest, northwest.\n",
        "##### charges: \n",
        "Individual medical costs billed by health insurance."
      ]
    },
    {
      "cell_type": "markdown",
      "metadata": {
        "id": "poNBljsXh-Xz",
        "colab_type": "text"
      },
      "source": [
        "# 1. Import the necessary libraries"
      ]
    },
    {
      "cell_type": "code",
      "metadata": {
        "id": "Ysy8Kwanh-X0",
        "colab_type": "code",
        "colab": {}
      },
      "source": [
        "# To enable plotting graphs in Jupyter notebook\n",
        "%matplotlib inline"
      ],
      "execution_count": 0,
      "outputs": []
    },
    {
      "cell_type": "code",
      "metadata": {
        "id": "Ng_dsN7Lh-X2",
        "colab_type": "code",
        "colab": {}
      },
      "source": [
        "# Numerical libraries\n",
        "import numpy as np\n",
        "\n",
        "# to handle data in form of rows and columns \n",
        "import pandas as pd    \n",
        "\n",
        "# importing ploting libraries\n",
        "import matplotlib.pyplot as plt   \n",
        "\n",
        "#importing seaborn for statistical plots\n",
        "import seaborn as sns\n",
        "\n",
        "#importing scipy stats \n",
        "import scipy\n",
        "import scipy.stats as st\n",
        "\n",
        "from statsmodels.formula.api import ols      # For n-way ANOVA\n",
        "from statsmodels.stats.anova import _get_covariance,anova_lm # For n-way ANOVA\n",
        "\n",
        "#for 2 sample T-test\n",
        "from scipy.stats import ttest_ind"
      ],
      "execution_count": 0,
      "outputs": []
    },
    {
      "cell_type": "markdown",
      "metadata": {
        "id": "6pRoEE4Lh-X4",
        "colab_type": "text"
      },
      "source": [
        "# 2. Read the data as a data frame"
      ]
    },
    {
      "cell_type": "code",
      "metadata": {
        "id": "UzTN_P6Wh-X5",
        "colab_type": "code",
        "colab": {
          "base_uri": "https://localhost:8080/",
          "height": 374
        },
        "outputId": "b5b324f3-67f6-46d4-f1f6-84ae69473436"
      },
      "source": [
        "# reading the CSV file into pandas dataframe\n",
        "ins_df = pd.read_csv(\"insurance.csv\")"
      ],
      "execution_count": 3,
      "outputs": [
        {
          "output_type": "error",
          "ename": "FileNotFoundError",
          "evalue": "ignored",
          "traceback": [
            "\u001b[0;31m---------------------------------------------------------------------------\u001b[0m",
            "\u001b[0;31mFileNotFoundError\u001b[0m                         Traceback (most recent call last)",
            "\u001b[0;32m<ipython-input-3-26a102f027b1>\u001b[0m in \u001b[0;36m<module>\u001b[0;34m()\u001b[0m\n\u001b[0;32m----> 1\u001b[0;31m \u001b[0mins_df\u001b[0m \u001b[0;34m=\u001b[0m \u001b[0mpd\u001b[0m\u001b[0;34m.\u001b[0m\u001b[0mread_csv\u001b[0m\u001b[0;34m(\u001b[0m\u001b[0;34m\"insurance.csv\"\u001b[0m\u001b[0;34m)\u001b[0m\u001b[0;34m\u001b[0m\u001b[0;34m\u001b[0m\u001b[0m\n\u001b[0m",
            "\u001b[0;32m/usr/local/lib/python3.6/dist-packages/pandas/io/parsers.py\u001b[0m in \u001b[0;36mparser_f\u001b[0;34m(filepath_or_buffer, sep, delimiter, header, names, index_col, usecols, squeeze, prefix, mangle_dupe_cols, dtype, engine, converters, true_values, false_values, skipinitialspace, skiprows, skipfooter, nrows, na_values, keep_default_na, na_filter, verbose, skip_blank_lines, parse_dates, infer_datetime_format, keep_date_col, date_parser, dayfirst, iterator, chunksize, compression, thousands, decimal, lineterminator, quotechar, quoting, doublequote, escapechar, comment, encoding, dialect, tupleize_cols, error_bad_lines, warn_bad_lines, delim_whitespace, low_memory, memory_map, float_precision)\u001b[0m\n\u001b[1;32m    700\u001b[0m                     skip_blank_lines=skip_blank_lines)\n\u001b[1;32m    701\u001b[0m \u001b[0;34m\u001b[0m\u001b[0m\n\u001b[0;32m--> 702\u001b[0;31m         \u001b[0;32mreturn\u001b[0m \u001b[0m_read\u001b[0m\u001b[0;34m(\u001b[0m\u001b[0mfilepath_or_buffer\u001b[0m\u001b[0;34m,\u001b[0m \u001b[0mkwds\u001b[0m\u001b[0;34m)\u001b[0m\u001b[0;34m\u001b[0m\u001b[0;34m\u001b[0m\u001b[0m\n\u001b[0m\u001b[1;32m    703\u001b[0m \u001b[0;34m\u001b[0m\u001b[0m\n\u001b[1;32m    704\u001b[0m     \u001b[0mparser_f\u001b[0m\u001b[0;34m.\u001b[0m\u001b[0m__name__\u001b[0m \u001b[0;34m=\u001b[0m \u001b[0mname\u001b[0m\u001b[0;34m\u001b[0m\u001b[0;34m\u001b[0m\u001b[0m\n",
            "\u001b[0;32m/usr/local/lib/python3.6/dist-packages/pandas/io/parsers.py\u001b[0m in \u001b[0;36m_read\u001b[0;34m(filepath_or_buffer, kwds)\u001b[0m\n\u001b[1;32m    427\u001b[0m \u001b[0;34m\u001b[0m\u001b[0m\n\u001b[1;32m    428\u001b[0m     \u001b[0;31m# Create the parser.\u001b[0m\u001b[0;34m\u001b[0m\u001b[0;34m\u001b[0m\u001b[0;34m\u001b[0m\u001b[0m\n\u001b[0;32m--> 429\u001b[0;31m     \u001b[0mparser\u001b[0m \u001b[0;34m=\u001b[0m \u001b[0mTextFileReader\u001b[0m\u001b[0;34m(\u001b[0m\u001b[0mfilepath_or_buffer\u001b[0m\u001b[0;34m,\u001b[0m \u001b[0;34m**\u001b[0m\u001b[0mkwds\u001b[0m\u001b[0;34m)\u001b[0m\u001b[0;34m\u001b[0m\u001b[0;34m\u001b[0m\u001b[0m\n\u001b[0m\u001b[1;32m    430\u001b[0m \u001b[0;34m\u001b[0m\u001b[0m\n\u001b[1;32m    431\u001b[0m     \u001b[0;32mif\u001b[0m \u001b[0mchunksize\u001b[0m \u001b[0;32mor\u001b[0m \u001b[0miterator\u001b[0m\u001b[0;34m:\u001b[0m\u001b[0;34m\u001b[0m\u001b[0;34m\u001b[0m\u001b[0m\n",
            "\u001b[0;32m/usr/local/lib/python3.6/dist-packages/pandas/io/parsers.py\u001b[0m in \u001b[0;36m__init__\u001b[0;34m(self, f, engine, **kwds)\u001b[0m\n\u001b[1;32m    893\u001b[0m             \u001b[0mself\u001b[0m\u001b[0;34m.\u001b[0m\u001b[0moptions\u001b[0m\u001b[0;34m[\u001b[0m\u001b[0;34m'has_index_names'\u001b[0m\u001b[0;34m]\u001b[0m \u001b[0;34m=\u001b[0m \u001b[0mkwds\u001b[0m\u001b[0;34m[\u001b[0m\u001b[0;34m'has_index_names'\u001b[0m\u001b[0;34m]\u001b[0m\u001b[0;34m\u001b[0m\u001b[0;34m\u001b[0m\u001b[0m\n\u001b[1;32m    894\u001b[0m \u001b[0;34m\u001b[0m\u001b[0m\n\u001b[0;32m--> 895\u001b[0;31m         \u001b[0mself\u001b[0m\u001b[0;34m.\u001b[0m\u001b[0m_make_engine\u001b[0m\u001b[0;34m(\u001b[0m\u001b[0mself\u001b[0m\u001b[0;34m.\u001b[0m\u001b[0mengine\u001b[0m\u001b[0;34m)\u001b[0m\u001b[0;34m\u001b[0m\u001b[0;34m\u001b[0m\u001b[0m\n\u001b[0m\u001b[1;32m    896\u001b[0m \u001b[0;34m\u001b[0m\u001b[0m\n\u001b[1;32m    897\u001b[0m     \u001b[0;32mdef\u001b[0m \u001b[0mclose\u001b[0m\u001b[0;34m(\u001b[0m\u001b[0mself\u001b[0m\u001b[0;34m)\u001b[0m\u001b[0;34m:\u001b[0m\u001b[0;34m\u001b[0m\u001b[0;34m\u001b[0m\u001b[0m\n",
            "\u001b[0;32m/usr/local/lib/python3.6/dist-packages/pandas/io/parsers.py\u001b[0m in \u001b[0;36m_make_engine\u001b[0;34m(self, engine)\u001b[0m\n\u001b[1;32m   1120\u001b[0m     \u001b[0;32mdef\u001b[0m \u001b[0m_make_engine\u001b[0m\u001b[0;34m(\u001b[0m\u001b[0mself\u001b[0m\u001b[0;34m,\u001b[0m \u001b[0mengine\u001b[0m\u001b[0;34m=\u001b[0m\u001b[0;34m'c'\u001b[0m\u001b[0;34m)\u001b[0m\u001b[0;34m:\u001b[0m\u001b[0;34m\u001b[0m\u001b[0;34m\u001b[0m\u001b[0m\n\u001b[1;32m   1121\u001b[0m         \u001b[0;32mif\u001b[0m \u001b[0mengine\u001b[0m \u001b[0;34m==\u001b[0m \u001b[0;34m'c'\u001b[0m\u001b[0;34m:\u001b[0m\u001b[0;34m\u001b[0m\u001b[0;34m\u001b[0m\u001b[0m\n\u001b[0;32m-> 1122\u001b[0;31m             \u001b[0mself\u001b[0m\u001b[0;34m.\u001b[0m\u001b[0m_engine\u001b[0m \u001b[0;34m=\u001b[0m \u001b[0mCParserWrapper\u001b[0m\u001b[0;34m(\u001b[0m\u001b[0mself\u001b[0m\u001b[0;34m.\u001b[0m\u001b[0mf\u001b[0m\u001b[0;34m,\u001b[0m \u001b[0;34m**\u001b[0m\u001b[0mself\u001b[0m\u001b[0;34m.\u001b[0m\u001b[0moptions\u001b[0m\u001b[0;34m)\u001b[0m\u001b[0;34m\u001b[0m\u001b[0;34m\u001b[0m\u001b[0m\n\u001b[0m\u001b[1;32m   1123\u001b[0m         \u001b[0;32melse\u001b[0m\u001b[0;34m:\u001b[0m\u001b[0;34m\u001b[0m\u001b[0;34m\u001b[0m\u001b[0m\n\u001b[1;32m   1124\u001b[0m             \u001b[0;32mif\u001b[0m \u001b[0mengine\u001b[0m \u001b[0;34m==\u001b[0m \u001b[0;34m'python'\u001b[0m\u001b[0;34m:\u001b[0m\u001b[0;34m\u001b[0m\u001b[0;34m\u001b[0m\u001b[0m\n",
            "\u001b[0;32m/usr/local/lib/python3.6/dist-packages/pandas/io/parsers.py\u001b[0m in \u001b[0;36m__init__\u001b[0;34m(self, src, **kwds)\u001b[0m\n\u001b[1;32m   1851\u001b[0m         \u001b[0mkwds\u001b[0m\u001b[0;34m[\u001b[0m\u001b[0;34m'usecols'\u001b[0m\u001b[0;34m]\u001b[0m \u001b[0;34m=\u001b[0m \u001b[0mself\u001b[0m\u001b[0;34m.\u001b[0m\u001b[0musecols\u001b[0m\u001b[0;34m\u001b[0m\u001b[0;34m\u001b[0m\u001b[0m\n\u001b[1;32m   1852\u001b[0m \u001b[0;34m\u001b[0m\u001b[0m\n\u001b[0;32m-> 1853\u001b[0;31m         \u001b[0mself\u001b[0m\u001b[0;34m.\u001b[0m\u001b[0m_reader\u001b[0m \u001b[0;34m=\u001b[0m \u001b[0mparsers\u001b[0m\u001b[0;34m.\u001b[0m\u001b[0mTextReader\u001b[0m\u001b[0;34m(\u001b[0m\u001b[0msrc\u001b[0m\u001b[0;34m,\u001b[0m \u001b[0;34m**\u001b[0m\u001b[0mkwds\u001b[0m\u001b[0;34m)\u001b[0m\u001b[0;34m\u001b[0m\u001b[0;34m\u001b[0m\u001b[0m\n\u001b[0m\u001b[1;32m   1854\u001b[0m         \u001b[0mself\u001b[0m\u001b[0;34m.\u001b[0m\u001b[0munnamed_cols\u001b[0m \u001b[0;34m=\u001b[0m \u001b[0mself\u001b[0m\u001b[0;34m.\u001b[0m\u001b[0m_reader\u001b[0m\u001b[0;34m.\u001b[0m\u001b[0munnamed_cols\u001b[0m\u001b[0;34m\u001b[0m\u001b[0;34m\u001b[0m\u001b[0m\n\u001b[1;32m   1855\u001b[0m \u001b[0;34m\u001b[0m\u001b[0m\n",
            "\u001b[0;32mpandas/_libs/parsers.pyx\u001b[0m in \u001b[0;36mpandas._libs.parsers.TextReader.__cinit__\u001b[0;34m()\u001b[0m\n",
            "\u001b[0;32mpandas/_libs/parsers.pyx\u001b[0m in \u001b[0;36mpandas._libs.parsers.TextReader._setup_parser_source\u001b[0;34m()\u001b[0m\n",
            "\u001b[0;31mFileNotFoundError\u001b[0m: [Errno 2] File b'insurance.csv' does not exist: b'insurance.csv'"
          ]
        }
      ]
    },
    {
      "cell_type": "code",
      "metadata": {
        "id": "mreGRPa7h-X7",
        "colab_type": "code",
        "colab": {}
      },
      "source": [
        "# Check top few records to get a feel of the data structure\n",
        "ins_df.head(10)"
      ],
      "execution_count": 0,
      "outputs": []
    },
    {
      "cell_type": "code",
      "metadata": {
        "id": "34pIxkMOh-X-",
        "colab_type": "code",
        "colab": {}
      },
      "source": [
        "ins_df.count()"
      ],
      "execution_count": 0,
      "outputs": []
    },
    {
      "cell_type": "markdown",
      "metadata": {
        "id": "CX1Y_24Jh-YB",
        "colab_type": "text"
      },
      "source": [
        "# 3. Perform basic EDA which should include the following and print out your insights at every step."
      ]
    },
    {
      "cell_type": "markdown",
      "metadata": {
        "id": "FzgvY6yTh-YB",
        "colab_type": "text"
      },
      "source": [
        "## a. Shape of the data"
      ]
    },
    {
      "cell_type": "code",
      "metadata": {
        "scrolled": false,
        "id": "-_vX33kch-YC",
        "colab_type": "code",
        "colab": {}
      },
      "source": [
        "ins_df.shape"
      ],
      "execution_count": 0,
      "outputs": []
    },
    {
      "cell_type": "markdown",
      "metadata": {
        "id": "mR39MOXBh-YE",
        "colab_type": "text"
      },
      "source": [
        "#### Observations :: All 1338 rows and 7 columns seem to match the input data"
      ]
    },
    {
      "cell_type": "markdown",
      "metadata": {
        "id": "3Iuz2K5rh-YF",
        "colab_type": "text"
      },
      "source": [
        "## b. Data type of each attribute"
      ]
    },
    {
      "cell_type": "code",
      "metadata": {
        "scrolled": true,
        "id": "QiAqKzDlh-YG",
        "colab_type": "code",
        "colab": {}
      },
      "source": [
        "ins_df.dtypes"
      ],
      "execution_count": 0,
      "outputs": []
    },
    {
      "cell_type": "markdown",
      "metadata": {
        "id": "0vNlz9gHh-YI",
        "colab_type": "text"
      },
      "source": [
        "#### Observations ::  We have age, bmi, children, charges as numbers. Sex, Smoker, Region are strings / categorical"
      ]
    },
    {
      "cell_type": "markdown",
      "metadata": {
        "id": "7SmbLzkZh-YJ",
        "colab_type": "text"
      },
      "source": [
        "## Categorical column Analysis"
      ]
    },
    {
      "cell_type": "code",
      "metadata": {
        "id": "UjFMaxt_h-YK",
        "colab_type": "code",
        "colab": {}
      },
      "source": [
        "ins_df.sex.value_counts()"
      ],
      "execution_count": 0,
      "outputs": []
    },
    {
      "cell_type": "markdown",
      "metadata": {
        "id": "gV41ZzH8h-YO",
        "colab_type": "text"
      },
      "source": [
        "#### Observations :: Almost equally distributed male and female"
      ]
    },
    {
      "cell_type": "code",
      "metadata": {
        "scrolled": true,
        "id": "rR3511tmh-YP",
        "colab_type": "code",
        "colab": {}
      },
      "source": [
        "ins_df.smoker.value_counts()"
      ],
      "execution_count": 0,
      "outputs": []
    },
    {
      "cell_type": "markdown",
      "metadata": {
        "id": "bI8hbTgwh-YS",
        "colab_type": "text"
      },
      "source": [
        "#### Observations :: 5 times fewer non smokers."
      ]
    },
    {
      "cell_type": "code",
      "metadata": {
        "scrolled": true,
        "id": "Q9VeX2svh-YT",
        "colab_type": "code",
        "colab": {}
      },
      "source": [
        "ins_df.region.value_counts()"
      ],
      "execution_count": 0,
      "outputs": []
    },
    {
      "cell_type": "markdown",
      "metadata": {
        "id": "MC0EBd7jh-YV",
        "colab_type": "text"
      },
      "source": [
        "#### Observations :: almost a balanced set of people from all 4 directions.. Slightly more people in south east. "
      ]
    },
    {
      "cell_type": "markdown",
      "metadata": {
        "id": "-1v0pMbFh-YW",
        "colab_type": "text"
      },
      "source": [
        "## c. Checking the presence of missing values"
      ]
    },
    {
      "cell_type": "code",
      "metadata": {
        "id": "Dq5NYrqNh-YX",
        "colab_type": "code",
        "colab": {}
      },
      "source": [
        "ins_df.isnull().values.any()"
      ],
      "execution_count": 0,
      "outputs": []
    },
    {
      "cell_type": "code",
      "metadata": {
        "id": "JpE2Xtwrh-YZ",
        "colab_type": "code",
        "colab": {}
      },
      "source": [
        "ins_df.isna().values.any()"
      ],
      "execution_count": 0,
      "outputs": []
    },
    {
      "cell_type": "markdown",
      "metadata": {
        "id": "pZPauxU5h-Yb",
        "colab_type": "text"
      },
      "source": [
        "#### Observations :: I think we dont have any null / missing values. Cross checked by applying filter in excel. Looks like no null. "
      ]
    },
    {
      "cell_type": "markdown",
      "metadata": {
        "id": "S2PzTEPwh-Yc",
        "colab_type": "text"
      },
      "source": [
        "## d. 5 point summary of numerical attributes "
      ]
    },
    {
      "cell_type": "code",
      "metadata": {
        "id": "laCX4X9Eh-Yd",
        "colab_type": "code",
        "colab": {}
      },
      "source": [
        "ins_df.describe().transpose()"
      ],
      "execution_count": 0,
      "outputs": []
    },
    {
      "cell_type": "markdown",
      "metadata": {
        "id": "N3466J7gh-Yf",
        "colab_type": "text"
      },
      "source": [
        "#### Observations :: \n",
        "Sd Deviation for Age, Charges seems large"
      ]
    },
    {
      "cell_type": "markdown",
      "metadata": {
        "id": "WR6G64kNh-Yg",
        "colab_type": "text"
      },
      "source": [
        "## e. Distribution of ‘bmi’, ‘age’ and ‘charges’ columns. "
      ]
    },
    {
      "cell_type": "markdown",
      "metadata": {
        "id": "NB988aLfh-Yh",
        "colab_type": "text"
      },
      "source": [
        "#### bmi"
      ]
    },
    {
      "cell_type": "code",
      "metadata": {
        "id": "jp_jF8mwh-Yh",
        "colab_type": "code",
        "colab": {}
      },
      "source": [
        "sns.set(color_codes=True)\n",
        "sns.distplot(ins_df['bmi'], kde = False)"
      ],
      "execution_count": 0,
      "outputs": []
    },
    {
      "cell_type": "markdown",
      "metadata": {
        "id": "lrGvQvozh-Yl",
        "colab_type": "text"
      },
      "source": [
        "#### Observations :: Lovely Normalish distribution.. Looks like real life data, peaking at 30 which borders on morbid obesity"
      ]
    },
    {
      "cell_type": "markdown",
      "metadata": {
        "id": "RlI5fo-Hh-Yl",
        "colab_type": "text"
      },
      "source": [
        "#### age"
      ]
    },
    {
      "cell_type": "code",
      "metadata": {
        "id": "iVijbXodh-Ym",
        "colab_type": "code",
        "colab": {}
      },
      "source": [
        "sns.distplot(ins_df['age'], kde=False, rug=True)"
      ],
      "execution_count": 0,
      "outputs": []
    },
    {
      "cell_type": "markdown",
      "metadata": {
        "id": "S6VlPmuAh-Yq",
        "colab_type": "text"
      },
      "source": [
        "#### Observations :: This is a bit wierd. Looks like we have double the number of people in their 20s than in other age ranges"
      ]
    },
    {
      "cell_type": "markdown",
      "metadata": {
        "id": "PQIiZJA-h-Ys",
        "colab_type": "text"
      },
      "source": [
        "#### charges"
      ]
    },
    {
      "cell_type": "code",
      "metadata": {
        "id": "JO8S43Iuh-Yt",
        "colab_type": "code",
        "colab": {}
      },
      "source": [
        "sns.distplot(ins_df['charges'], kde=False, rug=True)"
      ],
      "execution_count": 0,
      "outputs": []
    },
    {
      "cell_type": "markdown",
      "metadata": {
        "id": "rFK6xkgIh-Yy",
        "colab_type": "text"
      },
      "source": [
        "#### Observations :: Charges seem to be highly concentrated in the 1000 ~ 20000 range "
      ]
    },
    {
      "cell_type": "markdown",
      "metadata": {
        "id": "3gh9KdMBh-Yz",
        "colab_type": "text"
      },
      "source": [
        "## f. Measure of skewness of ‘bmi’, ‘age’ and ‘charges’ columns "
      ]
    },
    {
      "cell_type": "code",
      "metadata": {
        "id": "2sGbrHGmh-Y0",
        "colab_type": "code",
        "colab": {}
      },
      "source": [
        "ins_df.skew()"
      ],
      "execution_count": 0,
      "outputs": []
    },
    {
      "cell_type": "markdown",
      "metadata": {
        "id": "bxWF5m3Hh-Y2",
        "colab_type": "text"
      },
      "source": [
        "#### Observations ::\n",
        "Indications\n",
        "Age is least skewed slightly towards left tail of distribution\n",
        "BMI is moderately skewed with more values towards left tail of distribution\n",
        "Children is also highly skewed with more values towards left tail of distribution\n",
        "Charges highly skewed .. highest of the lot\n"
      ]
    },
    {
      "cell_type": "markdown",
      "metadata": {
        "id": "5kofq_YUh-Y3",
        "colab_type": "text"
      },
      "source": [
        "## g. Checking the presence of outliers in ‘bmi’, ‘age’ and ‘charges' columns"
      ]
    },
    {
      "cell_type": "markdown",
      "metadata": {
        "id": "I0eSSaljh-Y4",
        "colab_type": "text"
      },
      "source": [
        "#### age"
      ]
    },
    {
      "cell_type": "code",
      "metadata": {
        "id": "iSgYMIszh-Y5",
        "colab_type": "code",
        "colab": {}
      },
      "source": [
        "sns.boxplot(ins_df['age'])"
      ],
      "execution_count": 0,
      "outputs": []
    },
    {
      "cell_type": "markdown",
      "metadata": {
        "id": "2zOzUCyeh-Y8",
        "colab_type": "text"
      },
      "source": [
        "#### Observations :: No outliers in age"
      ]
    },
    {
      "cell_type": "markdown",
      "metadata": {
        "id": "UUZJP-TOh-Y9",
        "colab_type": "text"
      },
      "source": [
        "#### bmi"
      ]
    },
    {
      "cell_type": "code",
      "metadata": {
        "id": "Wb0Bhy93h-Y-",
        "colab_type": "code",
        "colab": {}
      },
      "source": [
        "sns.boxplot(ins_df['bmi'])"
      ],
      "execution_count": 0,
      "outputs": []
    },
    {
      "cell_type": "markdown",
      "metadata": {
        "id": "za-n5ay1h-ZA",
        "colab_type": "text"
      },
      "source": [
        "#### Observations :: Few outliers are discoevered beyond 46 or so. We may need to get rid of them if we make a model"
      ]
    },
    {
      "cell_type": "markdown",
      "metadata": {
        "id": "Y8DELsXuh-ZA",
        "colab_type": "text"
      },
      "source": [
        "#### charges"
      ]
    },
    {
      "cell_type": "code",
      "metadata": {
        "id": "1WHg7qCLh-ZB",
        "colab_type": "code",
        "colab": {}
      },
      "source": [
        "sns.boxplot(ins_df['charges'])"
      ],
      "execution_count": 0,
      "outputs": []
    },
    {
      "cell_type": "markdown",
      "metadata": {
        "id": "t7g51dsyh-ZF",
        "colab_type": "text"
      },
      "source": [
        "#### Observations :: Large number of outliers.. As always insurance company is making a quick buck"
      ]
    },
    {
      "cell_type": "markdown",
      "metadata": {
        "id": "hB6_2qUJh-ZF",
        "colab_type": "text"
      },
      "source": [
        "## h. Distribution of categorical columns (include children)"
      ]
    },
    {
      "cell_type": "code",
      "metadata": {
        "id": "mYoVhd3Ch-ZG",
        "colab_type": "code",
        "colab": {}
      },
      "source": [
        "sns.countplot(ins_df['sex'])"
      ],
      "execution_count": 0,
      "outputs": []
    },
    {
      "cell_type": "code",
      "metadata": {
        "id": "oPoM6vLSh-ZJ",
        "colab_type": "code",
        "colab": {}
      },
      "source": [
        "sns.countplot(ins_df['children'])"
      ],
      "execution_count": 0,
      "outputs": []
    },
    {
      "cell_type": "code",
      "metadata": {
        "scrolled": true,
        "id": "8tlLgAaFh-ZM",
        "colab_type": "code",
        "colab": {}
      },
      "source": [
        "sns.countplot(ins_df['region'])"
      ],
      "execution_count": 0,
      "outputs": []
    },
    {
      "cell_type": "code",
      "metadata": {
        "id": "uLaFqyXrh-ZO",
        "colab_type": "code",
        "colab": {}
      },
      "source": [
        "sns.countplot(ins_df['smoker'])"
      ],
      "execution_count": 0,
      "outputs": []
    },
    {
      "cell_type": "markdown",
      "metadata": {
        "id": "UozMDS8Eh-ZQ",
        "colab_type": "text"
      },
      "source": [
        "#### Observations :: Almost balanced male female pop and well distributed across regions too. The number of people without kids is very high"
      ]
    },
    {
      "cell_type": "markdown",
      "metadata": {
        "id": "BsZGDUJzh-ZR",
        "colab_type": "text"
      },
      "source": [
        "## i. Pair plot that includes all the columns of the data frame"
      ]
    },
    {
      "cell_type": "code",
      "metadata": {
        "id": "gMtFJtDuh-ZR",
        "colab_type": "code",
        "colab": {}
      },
      "source": [
        "sns.set(style=\"ticks\")\n",
        "sns.pairplot(ins_df, hue=\"children\")"
      ],
      "execution_count": 0,
      "outputs": []
    },
    {
      "cell_type": "code",
      "metadata": {
        "id": "_sELXsX4h-ZU",
        "colab_type": "code",
        "colab": {}
      },
      "source": [
        "sns.pairplot(ins_df, hue=\"sex\")"
      ],
      "execution_count": 0,
      "outputs": []
    },
    {
      "cell_type": "code",
      "metadata": {
        "id": "EQ7H6YjVh-ZV",
        "colab_type": "code",
        "colab": {}
      },
      "source": [
        "sns.pairplot(ins_df, hue=\"region\")"
      ],
      "execution_count": 0,
      "outputs": []
    },
    {
      "cell_type": "code",
      "metadata": {
        "id": "zQJycL6Dh-ZX",
        "colab_type": "code",
        "colab": {}
      },
      "source": [
        "sns.pairplot(ins_df, hue=\"smoker\")"
      ],
      "execution_count": 0,
      "outputs": []
    },
    {
      "cell_type": "markdown",
      "metadata": {
        "id": "F3fAg_Sah-ZZ",
        "colab_type": "text"
      },
      "source": [
        "#### Observations :: Many interesting things here.. \n",
        "\n",
        "1. Smokers seem to be charged more insurance\n",
        "2. As age increases, charges increase\n",
        "3. BMI, Children does not seem to directly impact charge"
      ]
    },
    {
      "cell_type": "markdown",
      "metadata": {
        "id": "FgzXFdjth-ZZ",
        "colab_type": "text"
      },
      "source": [
        "# 4. Answer the following questions with statistical evidence"
      ]
    },
    {
      "cell_type": "markdown",
      "metadata": {
        "id": "Sg6esTCQh-Za",
        "colab_type": "text"
      },
      "source": [
        "## a. Do charges of people who smoke differ significantly from the people who don't?"
      ]
    },
    {
      "cell_type": "markdown",
      "metadata": {
        "id": "YYCHe1Pph-Za",
        "colab_type": "text"
      },
      "source": [
        "### NULL HYPOTHESIS\n",
        "There is no impact of smoking on insurance charge\n",
        "\n",
        "### ALT HYPOTHESIS\n",
        "There is impact of smoking on insurance charge"
      ]
    },
    {
      "cell_type": "code",
      "metadata": {
        "id": "pGpGzgkxh-Zb",
        "colab_type": "code",
        "colab": {}
      },
      "source": [
        "sns.lineplot(x=\"age\", y=\"charges\", hue=\"smoker\", data=ins_df);"
      ],
      "execution_count": 0,
      "outputs": []
    },
    {
      "cell_type": "markdown",
      "metadata": {
        "id": "yhnsZUnEh-Zd",
        "colab_type": "text"
      },
      "source": [
        "#### Observations :: Yes .. from from graph we can see both age and smoking have incremental effect on charge"
      ]
    },
    {
      "cell_type": "code",
      "metadata": {
        "id": "PCwJ6A3th-Ze",
        "colab_type": "code",
        "colab": {}
      },
      "source": [
        "#APPLY ANOVA\n",
        "\n",
        "#Check impact on Charges vs categorical var smoker\n",
        "formula_smoker = 'charges ~ C(smoker)'\n",
        "model_smoker = ols(formula_smoker, ins_df).fit()\n",
        "aov_table_smoker = anova_lm(model_smoker)\n",
        "print(aov_table_smoker)"
      ],
      "execution_count": 0,
      "outputs": []
    },
    {
      "cell_type": "code",
      "metadata": {
        "id": "pPTaQJLth-Zg",
        "colab_type": "code",
        "colab": {}
      },
      "source": [
        "#Trying Two Sample T-Test\n",
        "# Tests whether the means of two independent samples are significantly different.\n",
        "\n",
        "#Create 2 samples 1 smoker, 1 non - smoker\n",
        "ins_df_smoker = ins_df.drop(ins_df[ins_df.smoker=='no'].index)\n",
        "ins_df_nsmoker = ins_df.drop(ins_df[ins_df.smoker=='yes'].index)\n",
        "\n",
        "print (ins_df_smoker.describe())\n",
        "print (ins_df_nsmoker.describe())"
      ],
      "execution_count": 0,
      "outputs": []
    },
    {
      "cell_type": "code",
      "metadata": {
        "id": "hzjskSb6h-Zm",
        "colab_type": "code",
        "colab": {}
      },
      "source": [
        "stat, pvalue = ttest_ind(ins_df_smoker['charges'] , ins_df_nsmoker['charges'])\n",
        "print(\"Compare means\", ins_df_smoker['charges'].mean() , ins_df_nsmoker['charges'].mean())\n",
        "print(\"Tstatistic for charges, Pvalue\", stat, pvalue)\n",
        "\n",
        "if pvalue > 0.05:\n",
        "\tprint('Samples are likely drawn from the same distributions (fail to reject H0)')\n",
        "else:\n",
        "\tprint('Samples are likely drawn from different distributions (reject H0)')"
      ],
      "execution_count": 0,
      "outputs": []
    },
    {
      "cell_type": "markdown",
      "metadata": {
        "id": "EXpOkguvh-Zr",
        "colab_type": "text"
      },
      "source": [
        "# Conclusion 4a :: Since PR value <<< 0.05, we can say that NULL Hypothesis can be rejected. Also the HUGE F value(in ANOVA) indicates big dependency. Hence alternative hypothesis is right and there is impact of Smoking on insurance charge"
      ]
    },
    {
      "cell_type": "markdown",
      "metadata": {
        "id": "Kce8PNH8h-Zr",
        "colab_type": "text"
      },
      "source": [
        "## b. Does bmi of males differ significantly from that of females?"
      ]
    },
    {
      "cell_type": "markdown",
      "metadata": {
        "id": "mBaqP00_h-Zs",
        "colab_type": "text"
      },
      "source": [
        "### NULL HYPOTHESIS\n",
        "There is no variation in mean BMI for men vs female .\n",
        "\n",
        "### ALT HYPOTHESIS\n",
        "There is variation in mean BMI for men vs female ."
      ]
    },
    {
      "cell_type": "code",
      "metadata": {
        "id": "rbhgzGHyh-Zt",
        "colab_type": "code",
        "colab": {}
      },
      "source": [
        "sns.catplot(x='sex', y='bmi', data=ins_df, kind='swarm');"
      ],
      "execution_count": 0,
      "outputs": []
    },
    {
      "cell_type": "markdown",
      "metadata": {
        "id": "DZDgnr7_h-Zw",
        "colab_type": "text"
      },
      "source": [
        "#### Observations :: No -- Does not look like from the graph. There are a few very high values for males. "
      ]
    },
    {
      "cell_type": "code",
      "metadata": {
        "scrolled": true,
        "id": "LEEW8bHdh-Zx",
        "colab_type": "code",
        "colab": {}
      },
      "source": [
        "#APPLY ANOVA\n",
        "\n",
        "#Check impact on BMI vs categorical var sex\n",
        "formula_bmi_sex = 'bmi ~ C(sex)'\n",
        "model_bmi_sex = ols(formula_bmi_sex, ins_df).fit()\n",
        "aov_table_bmi_sex = anova_lm(model_bmi_sex)\n",
        "print(aov_table_bmi_sex)"
      ],
      "execution_count": 0,
      "outputs": []
    },
    {
      "cell_type": "code",
      "metadata": {
        "id": "GzLQEhQQh-Zz",
        "colab_type": "code",
        "colab": {}
      },
      "source": [
        "#Trying Two Sample T-Test\n",
        "# Tests whether the means of two independent samples are significantly different.\n",
        "\n",
        "#Create 2 samples 1 make, 1 female\n",
        "ins_df_m = ins_df.drop(ins_df[ins_df.sex=='female'].index)\n",
        "ins_df_f = ins_df.drop(ins_df[ins_df.sex=='male'].index)\n",
        "\n",
        "stat, pvalue = ttest_ind(ins_df_m['bmi'] , ins_df_f['bmi'])\n",
        "print(\"Compare means\", ins_df_m['bmi'].mean() , ins_df_f['bmi'].mean())\n",
        "print(\"Tstatistic for bmi, Pvalue\", stat, pvalue)\n",
        "\n",
        "if pvalue > 0.05:\n",
        "\tprint('Samples are likely drawn from the same distributions (fail to reject H0)')\n",
        "else:\n",
        "\tprint('Samples are likely drawn from different distributions (reject H0)')"
      ],
      "execution_count": 0,
      "outputs": []
    },
    {
      "cell_type": "markdown",
      "metadata": {
        "id": "nkP8B_j4h-Z4",
        "colab_type": "text"
      },
      "source": [
        "# Conclusion 4b :: Since PR value > 0.05, we can say that NULL Hypothesis can't be rejected. Hence there is no impact on gender on mean bmi. "
      ]
    },
    {
      "cell_type": "markdown",
      "metadata": {
        "id": "U0PRnyxth-Z4",
        "colab_type": "text"
      },
      "source": [
        "## c. Is the proportion of smokers significantly different in different genders?"
      ]
    },
    {
      "cell_type": "markdown",
      "metadata": {
        "id": "pMAGEazlh-Z5",
        "colab_type": "text"
      },
      "source": [
        "### NULL HYPOTHESIS\n",
        "There is no variation in proportion of smokers across genders.\n",
        "H0 : Proportion of women smoking = Proportion of men smoking\n",
        "### ALT HYPOTHESIS\n",
        "There is significant variation in proportion of smokers across genders.\n",
        "H1 : Proportion of women smoking <> Proportion of men smoking"
      ]
    },
    {
      "cell_type": "code",
      "metadata": {
        "scrolled": true,
        "id": "cqApyvTwh-Z5",
        "colab_type": "code",
        "colab": {}
      },
      "source": [
        "sns.countplot(x=\"sex\", hue=\"smoker\", data=ins_df);"
      ],
      "execution_count": 0,
      "outputs": []
    },
    {
      "cell_type": "markdown",
      "metadata": {
        "id": "czn1ho4fh-Z7",
        "colab_type": "text"
      },
      "source": [
        "#### Observations :: The smokers ratio is higher in males . but i would not say its significantly higher.. "
      ]
    },
    {
      "cell_type": "code",
      "metadata": {
        "id": "y50Xf3Tih-Z8",
        "colab_type": "code",
        "colab": {}
      },
      "source": [
        "# H0 :: female_smoker_proportion = male_smoker_proportion (hence two tail) p = 0.05\n",
        "# H1 :: female_smoker_proportion != male_smoker_proportion\n",
        "\n",
        "# REF :: https://www.statsmodels.org/dev/generated/statsmodels.stats.proportion.proportions_ztest.html\n",
        "\n",
        "# we already have ins_df_m and ins_df_f - male female sub data sets\n",
        "# WE will separate the smokers \n",
        "\n",
        "ins_df_f_smoker = ins_df_f.drop(ins_df_f[ins_df_f.smoker=='no'].index)\n",
        "ins_df_m_smoker = ins_df_m.drop(ins_df_m[ins_df_m.smoker=='no'].index)\n",
        "\n",
        "#smoker_proportion_array = np.array([[ins_df_m.size,ins_df_m_smoker.size], [ins_df_f.size, ins_df_f_smoker.size]])\n",
        "#summary = st.chi2_contingency (smoker_proportion_array)\n",
        "#print(\"chi square summray for proportions of smokers across gender\", summary)\n",
        "\n",
        "from statsmodels.stats.proportion import proportions_ztest\n",
        "count = np.array([ins_df_m_smoker.shape[0], ins_df_f_smoker.shape[0]])\n",
        "print (count)\n",
        "nobs = np.array([ins_df_m.shape[0], ins_df_f.shape[0]])\n",
        "print (nobs)\n",
        "stat, pvalue = proportions_ztest(count , nobs, alternative='two-sided')\n",
        "#print(\"Compare means\", ins_df_f_smoker.mean() , ins_df_f['bmi'].mean())\n",
        "print(\"Tstatistic for proportions of smokers across gender, Pvalue\", pvalue)\n",
        "\n",
        "if pvalue > 0.05:\n",
        "\tprint('Samples are likely drawn from the same distributions (fail to reject H0)')\n",
        "else:\n",
        "\tprint('Samples are likely drawn from different distributions (reject H0)')"
      ],
      "execution_count": 0,
      "outputs": []
    },
    {
      "cell_type": "markdown",
      "metadata": {
        "id": "oGk6S1fCh-Z9",
        "colab_type": "text"
      },
      "source": [
        "# Conclusion 4c :: Since Pvalue < 0.05, we can say that NULL Hypothesis can  be rejected. Hence there is significant variation in proportion of smokers across genders."
      ]
    },
    {
      "cell_type": "markdown",
      "metadata": {
        "id": "mLke4mBDh-Z-",
        "colab_type": "text"
      },
      "source": [
        "## d. Is the distribution of bmi across women with no children, one child and two children, the same ?"
      ]
    },
    {
      "cell_type": "code",
      "metadata": {
        "id": "T94duVFyh-Z_",
        "colab_type": "code",
        "colab": {}
      },
      "source": [
        "#we already have female set from above\n",
        "ins_df_f.head()"
      ],
      "execution_count": 0,
      "outputs": []
    },
    {
      "cell_type": "code",
      "metadata": {
        "scrolled": true,
        "id": "vARJ3-dbh-aC",
        "colab_type": "code",
        "colab": {}
      },
      "source": [
        "sns.catplot(x='children', y='bmi', data=ins_df_f, kind='swarm');"
      ],
      "execution_count": 0,
      "outputs": []
    },
    {
      "cell_type": "code",
      "metadata": {
        "id": "nj64saHUh-aD",
        "colab_type": "code",
        "colab": {}
      },
      "source": [
        "sns.lineplot(x='children', y='bmi', hue='smoker', data=ins_df_f)"
      ],
      "execution_count": 0,
      "outputs": []
    },
    {
      "cell_type": "markdown",
      "metadata": {
        "id": "bpnOOt5Mh-aF",
        "colab_type": "text"
      },
      "source": [
        "#### Observations :: Does not look like there is any significant difference in BMI vs Number of children for females 0,1,2 -- This is just by looking at it.."
      ]
    },
    {
      "cell_type": "markdown",
      "metadata": {
        "id": "dJ7ysfg0h-aF",
        "colab_type": "text"
      },
      "source": [
        "### NULL HYPOTHESIS\n",
        "There is no impact of children (across women with no children, one child and two children) on Distribution of bmi. BAsically there is no variation in mean BMI for women with 0 ,1, 2 kids .\n",
        "\n",
        "### ALT HYPOTHESIS\n",
        "There is impact of children (across women with no children, one child and two children) on Distribution of bmi. BAsically there is variation in mean BMI for women with 0 ,1, 2 kids ."
      ]
    },
    {
      "cell_type": "code",
      "metadata": {
        "id": "rD9RDPRTh-aG",
        "colab_type": "code",
        "colab": {}
      },
      "source": [
        "#extract population of females with 0,1,2 children.\n",
        "\n",
        "ins_df_f_012Children = ins_df_f.drop(ins_df_f[ins_df_f.children>=3].index)\n",
        "ins_df_f_012Children.head(10)"
      ],
      "execution_count": 0,
      "outputs": []
    },
    {
      "cell_type": "code",
      "metadata": {
        "id": "DbzOZr42h-aH",
        "colab_type": "code",
        "colab": {}
      },
      "source": [
        "#box plot the thing\n",
        "sns.boxplot(x=ins_df_f_012Children['children'], y = ins_df_f_012Children['bmi'])"
      ],
      "execution_count": 0,
      "outputs": []
    },
    {
      "cell_type": "code",
      "metadata": {
        "id": "tu2yI5PSh-aL",
        "colab_type": "code",
        "colab": {}
      },
      "source": [
        "#APPLY ANOVA\n",
        "\n",
        "#Check impact on BMI vs categorical var children\n",
        "formula = 'bmi ~ C(children)'\n",
        "model = ols(formula, ins_df_f_012Children).fit()\n",
        "aov_table = anova_lm(model)\n",
        "print(aov_table)"
      ],
      "execution_count": 0,
      "outputs": []
    },
    {
      "cell_type": "markdown",
      "metadata": {
        "id": "p39zhLvFh-aM",
        "colab_type": "text"
      },
      "source": [
        "# Conclusion 4d :: Since PR value > 0.05, we can say that NULL Hypothesis cant be rejected. Also F value is very small. Hence there is no impact on number of children on mean bmi. "
      ]
    }
  ]
}